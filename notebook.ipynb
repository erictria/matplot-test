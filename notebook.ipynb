{
 "cells": [
  {
   "cell_type": "code",
   "execution_count": 7,
   "id": "52f07525",
   "metadata": {},
   "outputs": [
    {
     "name": "stdout",
     "output_type": "stream",
     "text": [
      "             Timestamp Operating System  CPU Cycle Rate (in GHz)  \\\n",
      "0   5/18/2022 12:30:44            MacOS                      2.5   \n",
      "1     1/1/1970 0:00:00        Any Linux                    500.0   \n",
      "2    6/8/2022 17:39:20          Windows                      2.8   \n",
      "3   6/12/2022 21:25:43          Windows                      2.3   \n",
      "4   6/14/2022 11:51:11            MacOS                      1.6   \n",
      "..                 ...              ...                      ...   \n",
      "57  6/14/2022 14:16:47          Windows                      1.8   \n",
      "58  6/14/2022 14:17:00          Windows                      2.4   \n",
      "59  6/14/2022 14:17:18        Any Linux                      2.5   \n",
      "60  6/14/2022 14:17:30          Windows                      2.4   \n",
      "61  6/14/2022 14:18:16            MacOS                      1.4   \n",
      "\n",
      "    CPU Number of Cores (int)  RAM (in GB)  Hard Drive Size (in GB)  \\\n",
      "0                           2           16                      500   \n",
      "1                          -3          256                        5   \n",
      "2                           4           16                      512   \n",
      "3                           8           16                      936   \n",
      "4                           2            8                      121   \n",
      "..                        ...          ...                      ...   \n",
      "57                          4           16                      450   \n",
      "58                          4           16                      237   \n",
      "59                         14           32                     1000   \n",
      "60                          2            8                      237   \n",
      "61                          8            8                      256   \n",
      "\n",
      "      GPU (short description as a string)  GPU CUDA Number of Cores (int)  \n",
      "0    Intel Iris Plus Graphics 640 1536 MB                               0  \n",
      "1                               rtx 48000                         6002283  \n",
      "2                  Intel Iris Xe Graphics                               4  \n",
      "3                   Intel(R) UHD Graphics                            2560  \n",
      "4          Intel UHD Graphics 617 1536 MB                               2  \n",
      "..                                    ...                             ...  \n",
      "57                NVIDIA GeForce GTX 1050                             640  \n",
      "58           Intel(R) Iris(R) Xe Graphics                               0  \n",
      "59  NVIDIA GeForce RTX 3050 Ti Laptop GPU                            2560  \n",
      "60              Intel (R) HD Graphics 520                             192  \n",
      "61                               Apple M1                               0  \n",
      "\n",
      "[62 rows x 8 columns]\n"
     ]
    }
   ],
   "source": [
    "import matplotlib.pyplot as plt\n",
    "import numpy as np\n",
    "import pandas as pd\n",
    "# matplotlib inline\n",
    "\n",
    "df = pd.read_csv('sample-data.csv')\n",
    "print(df)\n",
    "# np.random.seed(42)\n",
    "# x = np.random.normal(size=1000)\n",
    "# print(x)"
   ]
  },
  {
   "cell_type": "code",
   "execution_count": 22,
   "id": "b2548e99",
   "metadata": {},
   "outputs": [
    {
     "data": {
      "text/plain": [
       "<AxesSubplot:>"
      ]
     },
     "execution_count": 22,
     "metadata": {},
     "output_type": "execute_result"
    },
    {
     "data": {
      "image/png": "[encoded data removed]",
      "text/plain": [
       "<Figure size 432x288 with 1 Axes>"
      ]
     },
     "metadata": {
      "needs_background": "light"
     },
     "output_type": "display_data"
    }
   ],
   "source": [
    "df['GPU CUDA Number of Cores (int)'].hist()"
   ]
  },
  {
   "cell_type": "code",
   "execution_count": 26,
   "id": "691d3ae0",
   "metadata": {},
   "outputs": [
    {
     "data": {
      "image/png": "[encoded data removed]",
      "text/plain": [
       "<Figure size 432x288 with 1 Axes>"
      ]
     },
     "metadata": {
      "needs_background": "light"
     },
     "output_type": "display_data"
    }
   ],
   "source": [
    "plt.hist(df['GPU CUDA Number of Cores (int)'], density=True, bins=10)  # density=False would make counts\n",
    "plt.ylabel('GPU CUDA Number of Cores (int)')\n",
    "plt.xlabel('count');"
   ]
  },
  {
   "cell_type": "code",
   "execution_count": null,
   "id": "628145a3",
   "metadata": {},
   "outputs": [],
   "source": []
  }
 ],
 "metadata": {
  "kernelspec": {
   "display_name": "Python 3 (ipykernel)",
   "language": "python",
   "name": "python3"
  },
  "language_info": {
   "codemirror_mode": {
    "name": "ipython",
    "version": 3
   },
   "file_extension": ".py",
   "mimetype": "text/x-python",
   "name": "python",
   "nbconvert_exporter": "python",
   "pygments_lexer": "ipython3",
   "version": "3.9.12"
  }
 },
 "nbformat": 4,
 "nbformat_minor": 5
}
